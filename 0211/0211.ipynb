{
 "cells": [
  {
   "cell_type": "markdown",
   "metadata": {},
   "source": [
    "## Overview\n",
    "- Str fmt\n",
    "- 주석\n",
    "- 조건문\n",
    "- Loop문\n",
    "- 함수"
   ]
  },
  {
   "cell_type": "markdown",
   "metadata": {},
   "source": [
    "## String formatting\n",
    "- string 만드는 규칙\n",
    "- string 만들 때뿐 아니라 여기 저기 사용됨\n",
    "- 규칙\n",
    "    - 'input을 포함한 패턴공식' % (넣어줄 input들)\n",
    "    - 예)\n",
    "        ```\n",
    "        >>> yymmdd = '%d-%d-%d' % (0, 12, 12)\n",
    "        >>> yymmdd\n",
    "        0-12-12\n",
    "        ```\n",
    "- 패턴 규칙\n",
    "    - %d == int\n",
    "        ```\n",
    "        >>> '%d%d%d' % (x % 100, y, z)\n",
    "        '011'\n",
    "        ```\n",
    "    - %lf == float\n",
    "    - %s == string\n",
    "    - %r == bool\n",
    "- 복잡한 패턴\n",
    "    - 자릿수 고려\n",
    "    - 정수\n",
    "        - 자릿수를 의미하는 숫자를 포함하여 패턴 만듦\n",
    "            - ex) %2d == 두자리 정수\n",
    "                ```\n",
    "                >>> x, y, z = 2000, 12, 1\n",
    "                >>> '%2d%2d%2d' % (x % 100, y, z)\n",
    "                ' 012 1'\n",
    "                ```\n",
    "        - 자릿수 + 빈 자리를 채우는 방식도 있음\n",
    "            - ex) %02d == 두자리 정수, 빈 자리는 0으로 채움\n",
    "                ```\n",
    "                >>> x, y, z = 2000, 12, 1\n",
    "                >>> '%02d%02d%02d' % (x % 100, y, z)\n",
    "                '001201'\n",
    "                ```\n",
    "    - 실수\n",
    "        - 소수점 자릿수를 의미하는 숫자를 포함하여 패턴 만듦\n",
    "            - ex) %.2lf == 소수점 둘째자리까지 포함한 실수\n",
    "                ```\n",
    "                >>> '%.2lf-%d-%d' % (3, 10, 45342)\n",
    "                '3.00-10-45342'\n",
    "                ```"
   ]
  },
  {
   "cell_type": "markdown",
   "metadata": {},
   "source": [
    "## 주석\n",
    "- 주석은 나만의 설명을 코드 안에 쓰고싶을 때 사용한다.\n",
    "- 컴퓨터는 주석을 못읽음! 사람만 읽음!\n",
    "- ```''' 어쩌고 저쩌고 '''``` 하면 됨.\n",
    "- ```\"\"\" 어쩌고 저쩌고 \"\"\"``` 해도 됨.\n",
    "- ```# 어쩌고 저쩌고``` 해도 됨. 단, 얘는 한 줄만 주석이 됨."
   ]
  },
  {
   "cell_type": "markdown",
   "metadata": {},
   "source": [
    "## 조건문\n",
    "- 어떤 조건을 만족하면 \\*\\*\\* 을 하고, 어떤 조건을 만족하면 \\*\\*\\* 해라\n",
    "- if 문\n",
    "    - Syntax\n",
    "        ```\n",
    "        if <조건>:\n",
    "            <do>\n",
    "        ```\n",
    "    - `<조건>` 을 만족하면 `<do>` 를 해라.\n",
    "- if else 문\n",
    "    - Syntax\n",
    "        ```\n",
    "        if <조건>:\n",
    "            <do 1>\n",
    "        else:\n",
    "            <do 2>\n",
    "        ```\n",
    "    - `<조건>` 을 만족하면 `<do 1>` 을 하고, 그렇지 않으면 `<do 2>` 를 해라.\n",
    "- 중복 조건 주기\n",
    "    - 예)\n",
    "        ```\n",
    "        if <조건1>:\n",
    "            <do 1>\n",
    "        else:\n",
    "            if <조건2>:\n",
    "                <do 2>\n",
    "            else:\n",
    "                if <조건3>:\n",
    "                    <do 3>\n",
    "                else:\n",
    "                    <do 4>\n",
    "        ```\n",
    "- if elif 문\n",
    "    - 위 방법처럼 중복 조건 주면 tab이 너무 많아서 안예쁨.\n",
    "    - 그래서 elif (== else if) 를 씀!\n",
    "    - 예)\n",
    "        ```\n",
    "        if <조건1>:\n",
    "            <do 1>\n",
    "        elif <조건2>:\n",
    "            <do 2>\n",
    "        elif <조건3>:\n",
    "            <do 3>\n",
    "        else:\n",
    "            <do 4>\n",
    "        ```\n"
   ]
  },
  {
   "cell_type": "code",
   "execution_count": null,
   "metadata": {
    "collapsed": true
   },
   "outputs": [],
   "source": []
  }
 ],
 "metadata": {
  "anaconda-cloud": {},
  "kernelspec": {
   "display_name": "Python [conda root]",
   "language": "python",
   "name": "conda-root-py"
  },
  "language_info": {
   "codemirror_mode": {
    "name": "ipython",
    "version": 3
   },
   "file_extension": ".py",
   "mimetype": "text/x-python",
   "name": "python",
   "nbconvert_exporter": "python",
   "pygments_lexer": "ipython3",
   "version": "3.5.2"
  }
 },
 "nbformat": 4,
 "nbformat_minor": 2
}
