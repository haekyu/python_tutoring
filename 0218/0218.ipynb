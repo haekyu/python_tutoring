{
 "cells": [
  {
   "cell_type": "markdown",
   "metadata": {},
   "source": [
    "## Overview\n",
    "- loop\n",
    "\t- for 문\n",
    "\t- loop 문 변칙\n",
    "- 함수\n",
    "    - 관련 용어들\n",
    "    - 만드는 규칙\n",
    "    "
   ]
  },
  {
   "cell_type": "markdown",
   "metadata": {},
   "source": [
    "## Loop\n",
    "- while\n",
    "    - 지난시간에 함\n",
    "    - https://github.com/haekyu/python_tutoring/blob/master/0211/0211.ipynb 참고\n",
    "- for\n",
    "\t- iterator의 값이 될 sequence가 미리 정해져있음\n",
    "\t- 만드는 규칙\n",
    "\t\t```\n",
    "\t\tfor iterator in sequence:\n",
    "\t\t\tdo\n",
    "\t\t```\n",
    "        - iterator가 sequence 내의 값이 하나씩 되어가면서 do를 해라.\n",
    "        - 즉, \n",
    "            - iterator == sequence[0] 일 때 do 하고\n",
    "            - iterator == sequence[1] 일 때 do 하고\n",
    "            - iterator == sequence[2] 일 때 do 하고\n",
    "            - ....\n",
    "            - iterator == sequence[-1] 일 때 do 해라\n",
    "\n",
    "\t- iterator의 이름은 아무거나 써도 됨\n",
    "\t\t```\n",
    "\t\tfor pretty_e in lst:\n",
    "\t\t\tdo\n",
    "\t\t\tprint(pretty_e)\n",
    "\t\t```\n",
    "- loop문 변칙\n",
    "\t- 강제 종료\n",
    "\t\t- break\n",
    "        - break 를 만나는 순간 loop문이 그냥 중도에 끝남\n",
    "\t- 스킵\n",
    "\t\t- continue\n",
    "        - continue 를 만나는 순간 현재 iteration을 skip 하고 다음 iteration으로 넘어감"
   ]
  },
  {
   "cell_type": "code",
   "execution_count": 4,
   "metadata": {
    "collapsed": false
   },
   "outputs": [
    {
     "name": "stdout",
     "output_type": "stream",
     "text": [
      "9\n",
      "3\n",
      "2\n",
      "1\n",
      "----------\n",
      "9\n",
      "3\n",
      "2\n",
      "1\n",
      "----------\n",
      "9\n",
      "3\n",
      "2\n",
      "1\n"
     ]
    }
   ],
   "source": [
    "# while 버전\n",
    "idx = 0\n",
    "while idx < len(lst):\n",
    "\tprint(lst[idx])\n",
    "\tidx = idx + 1\n",
    "    \n",
    "print('-' * 10)\n",
    "\n",
    "# for 버전\n",
    "lst = [9, 3, 2, 1]\n",
    "for idx in [0, 1, 2, 3]:\n",
    "    print(lst[idx])\n",
    "    \n",
    "print('-' * 10)\n",
    "\n",
    "# for 버전 2\n",
    "for e in lst:\n",
    "\tprint(e)"
   ]
  },
  {
   "cell_type": "code",
   "execution_count": 5,
   "metadata": {
    "collapsed": false
   },
   "outputs": [
    {
     "name": "stdout",
     "output_type": "stream",
     "text": [
      "Remember me Though I have to say goodbye \n"
     ]
    }
   ],
   "source": [
    "lst = [\"Remember\", \"me\", \"Though\", \"I\", \"have\", \"to\", \"say\", \"goodbye\"]\n",
    "sentence = \"\"\n",
    "for word in lst:\n",
    "    sentence += word + \" \"\n",
    "print(sentence)"
   ]
  },
  {
   "cell_type": "code",
   "execution_count": 7,
   "metadata": {
    "collapsed": false
   },
   "outputs": [
    {
     "name": "stdout",
     "output_type": "stream",
     "text": [
      "Remember\n",
      "me\n",
      "Though\n",
      "----------\n",
      "Remember\n",
      "me\n",
      "Though\n",
      "have\n",
      "to\n",
      "say\n",
      "goodbye\n"
     ]
    }
   ],
   "source": [
    "# break 연습\n",
    "lst = [\"Remember\", \"me\", \"Though\", \"I\", \"have\", \"to\", \"say\", \"goodbye\"]\n",
    "for word in lst:\n",
    "    if len(word) < 2:\n",
    "        break\n",
    "    print(word)\n",
    "    \n",
    "print('-' * 10)\n",
    "\n",
    "# continue 연습\n",
    "lst = [\"Remember\", \"me\", \"Though\", \"I\", \"have\", \"to\", \"say\", \"goodbye\"]\n",
    "for word in lst:\n",
    "    if len(word) < 2:\n",
    "        continue\n",
    "    print(word)"
   ]
  },
  {
   "cell_type": "markdown",
   "metadata": {},
   "source": [
    "## 함수\n",
    "- 용어\n",
    "\t- return : output을 내뱉는다\n",
    "\t- call : 함수를 사용한다\n",
    "\t- parameter : input 변수\n",
    "\t- argument : input 변수(의 값)\n",
    "\t- default parameter: default 값을 갖는 파라미터\n",
    "\t\t- `f(x=3, ...)`\n",
    "\t\t- 뒷 부분 input만 default 파라미터가 될 수 있음\n",
    "\t\t- 함수 call할 때\n",
    "\t\t\t- f(x=3), f(3)\n",
    "- 만드는 규칙\n",
    "    ```\n",
    "    def 함수이름(parameter들, ...):\n",
    "        do\n",
    "        return output 들 (만약 있다면)\n",
    "    ```"
   ]
  },
  {
   "cell_type": "code",
   "execution_count": 8,
   "metadata": {
    "collapsed": false
   },
   "outputs": [
    {
     "name": "stdout",
     "output_type": "stream",
     "text": [
      "f(3) = 5\n"
     ]
    }
   ],
   "source": [
    "# f(x) = x + 2\n",
    "\n",
    "def f(x):\n",
    "    return x + 2\n",
    "\n",
    "print('f(%d) = %d' % (3, f(3)))"
   ]
  },
  {
   "cell_type": "code",
   "execution_count": 20,
   "metadata": {
    "collapsed": false
   },
   "outputs": [
    {
     "name": "stdout",
     "output_type": "stream",
     "text": [
      "----------\n",
      "x = 1\n",
      "y = 2\n",
      "z = 3\n",
      "f(1, 2, 3) = 6, 6\n",
      "----------\n",
      "x = 1\n",
      "y = 0\n",
      "z = 0\n",
      "f(1) = 1, 0\n",
      "----------\n",
      "x = 1\n",
      "y = 2\n",
      "z = 0\n",
      "f(1, 2) = 3, 0\n",
      "----------\n",
      "x = 1\n",
      "y = 0\n",
      "z = 3\n",
      "f(1, z=2) = 4, 0\n"
     ]
    }
   ],
   "source": [
    "def f(x, y=0, z=0):\n",
    "    print('-' * 10)\n",
    "    print('x = %d' % x)\n",
    "    print('y = %d' % y)\n",
    "    print('z = %d' % z)\n",
    "    out1 = x + y + z\n",
    "    out2 = x * y * z\n",
    "    return out1, out2\n",
    "\n",
    "result1, result2 = f(1, 2, 3)\n",
    "print('f(%d, %d, %d) = %d, %d' % (1, 2, 3, result1, result2))\n",
    "\n",
    "result1, result2 = f(1)\n",
    "print('f(%d) = %d, %d' % (1, result1, result2))\n",
    "\n",
    "result1, result2 = f(1, 2)\n",
    "print('f(%d, %d) = %d, %d' % (1, 2, result1, result2))\n",
    "\n",
    "result1, result2 = f(1, z=3)\n",
    "print('f(%d, z=%d) = %d, %d' % (1, 2, result1, result2))"
   ]
  },
  {
   "cell_type": "code",
   "execution_count": null,
   "metadata": {
    "collapsed": true
   },
   "outputs": [],
   "source": []
  }
 ],
 "metadata": {
  "anaconda-cloud": {},
  "kernelspec": {
   "display_name": "Python [conda root]",
   "language": "python",
   "name": "conda-root-py"
  },
  "language_info": {
   "codemirror_mode": {
    "name": "ipython",
    "version": 3
   },
   "file_extension": ".py",
   "mimetype": "text/x-python",
   "name": "python",
   "nbconvert_exporter": "python",
   "pygments_lexer": "ipython3",
   "version": "3.5.2"
  }
 },
 "nbformat": 4,
 "nbformat_minor": 2
}
