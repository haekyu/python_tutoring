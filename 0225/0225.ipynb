{
 "cells": [
  {
   "cell_type": "markdown",
   "metadata": {},
   "source": [
    "## Overview\n",
    "- Membership\n",
    "- dictionary\n",
    "- 파일 읽기 / 쓰기\n",
    "- for 문 추가"
   ]
  },
  {
   "cell_type": "markdown",
   "metadata": {},
   "source": [
    "## Membership\n",
    "- member 다 / 아니다\n",
    "- in / not in\n",
    "- 예) list의 membership\n",
    "    - `lst = [1, 2, 10, 11]` 일 때 1 은 lst의 멤버인가?\n",
    "        ```python\n",
    "        >>> lst = [1, 2, 10, 11]\n",
    "        >>> 1 in lst\n",
    "        True\n",
    "        >>> 1111 not in lst\n",
    "        True\n",
    "        ```\n",
    "- 예) string의 membership\n",
    "    - string도 개념적으로는 문자들의 sequence / list 임! membership 역시 가능\n",
    "        ```python\n",
    "        >>> sss = \"abc\"\n",
    "        >>> \"a\" in sss\n",
    "        True\n",
    "        >>> \"bc\" not in sss\n",
    "        False\n",
    "        ```"
   ]
  },
  {
   "cell_type": "markdown",
   "metadata": {},
   "source": [
    "## Dictionary\n",
    "- 빠른 검색을 위한 자료구조\n",
    "- key와 value의 맵핑을 저장한 table\n",
    "- 검색이 빠름\n",
    "- Empty dictionary 만들기\n",
    "    - {}\n",
    "    - dict()\n",
    "- mapping 추가하기\n",
    "    - `dict[key] = val`\n",
    "- 검색하기\n",
    "    - key를 던져주면 val이 나옴\n",
    "    - `dict[key]` 하면 val이 나옴\n",
    "- membership\n",
    "    - in / not in\n",
    "    - key in / not in dict\n",
    "    - key in / not in dict.keys()\n",
    "    - val in / not in dict.values()"
   ]
  },
  {
   "cell_type": "code",
   "execution_count": 10,
   "metadata": {
    "collapsed": false
   },
   "outputs": [
    {
     "name": "stdout",
     "output_type": "stream",
     "text": [
      ">>> name_age_dict\n",
      "{'Doggy': 10, 'Kitty': 3, 'Berry': 0.5}\n",
      "\n",
      ">>> 'Berry' in name_age_dict\n",
      "True\n",
      "\n",
      ">>> 'Me' in name_age_dict\n",
      "False\n",
      "\n",
      ">>> name_age_dict.values()\n",
      "dict_values([10, 3, 0.5])\n",
      "\n",
      ">>> name_age_dict.keys()\n",
      "dict_keys(['Doggy', 'Kitty', 'Berry'])\n"
     ]
    }
   ],
   "source": [
    "# Initialize a dicitonary\n",
    "name_age_dict = {}\n",
    "\n",
    "# Add mappings\n",
    "name_age_dict['Berry'] = 0.5\n",
    "name_age_dict['Kitty'] = 3\n",
    "name_age_dict['Doggy'] = 10\n",
    "\n",
    "# Print the dictionary\n",
    "print('>>> name_age_dict')\n",
    "print(name_age_dict)\n",
    "\n",
    "# Get the value from a key\n",
    "berry_age = name_age_dict['Berry']\n",
    "\n",
    "# Membership\n",
    "print(\"\\n>>> 'Berry' in name_age_dict\")\n",
    "print('Berry' in name_age_dict)\n",
    "print(\"\\n>>> 'Me' in name_age_dict\")\n",
    "print('Me' in name_age_dict)\n",
    "\n",
    "# Get keys and values\n",
    "print(\"\\n>>> name_age_dict.values()\")\n",
    "print(name_age_dict.values())\n",
    "print(\"\\n>>> name_age_dict.keys()\")\n",
    "print(name_age_dict.keys())"
   ]
  },
  {
   "cell_type": "markdown",
   "metadata": {},
   "source": [
    "### 파일 읽기 / 쓰기\n",
    "- 기본방법\n",
    "    - 파일 객체를 만드는 방법\n",
    "    - `f = open(파일이름, 모드)`\n",
    "        - 여기서 f를 파일 객체라고 부름.\n",
    "        - 모드\n",
    "            - 'r': read\n",
    "            - 'w': write\n",
    "            - 'a': append\n",
    "    - 라인 별로 읽어오기\n",
    "        - 모든 라인 한방에 읽기\n",
    "            - readlines() 함수 사용\n",
    "            ```python\n",
    "            lines = f.readlines()\n",
    "            ```\n",
    "        - 한 라인씩 읽기\n",
    "            - readline() 함수 사용\n",
    "            ```python\n",
    "            while True:\n",
    "                line = f.readline()\n",
    "                if line == \"\":\n",
    "                    break\n",
    "                ...\n",
    "            ```\n",
    "    - 마지막에 반드시 f.close()해주어야 함!"
   ]
  },
  {
   "cell_type": "code",
   "execution_count": 18,
   "metadata": {
    "collapsed": false
   },
   "outputs": [
    {
     "name": "stdout",
     "output_type": "stream",
     "text": [
      "['\\ufeff이름,나이,주소\\n', 'Berry,0.5,집\\n', 'JH,27,서울\\n', 'HK,27,서울\\n', 'MK,27,경기\\n', 'DG,29,서울']\n"
     ]
    }
   ],
   "source": [
    "f = open('data.csv', 'r', encoding='utf8')\n",
    "lines = f.readlines()\n",
    "f.close()\n",
    "\n",
    "print(lines)"
   ]
  },
  {
   "cell_type": "code",
   "execution_count": 1,
   "metadata": {
    "collapsed": false
   },
   "outputs": [
    {
     "name": "stdout",
     "output_type": "stream",
     "text": [
      "﻿이름,나이,주소\n",
      "\n",
      "Berry,0.5,집\n",
      "\n",
      "JH,27,서울\n",
      "\n",
      "HK,27,서울\n",
      "\n",
      "MK,27,경기\n",
      "\n",
      "DG,29,서울\n",
      "\n"
     ]
    }
   ],
   "source": [
    "f = open('data.csv', 'r', encoding='utf8')\n",
    "while True:\n",
    "    line = f.readline()\n",
    "    print(line)\n",
    "    if line == \"\":\n",
    "        break\n",
    "f.close()"
   ]
  },
  {
   "cell_type": "markdown",
   "metadata": {},
   "source": [
    "- pandas 사용법\n",
    "    - 컬럼별로 데이터 읽음\n",
    "    - pandas라는 모듈을 가져와서 사용해야 함.\n",
    "        - 모듈 가져오기: `import pandas as pd`\n",
    "        - 이 말은 pandas라는 모듈을 가져와서 앞으로는 pd로 부르겠다는 말.\n",
    "    - pd.read_csv() 함수 사용.\n",
    "        - input\n",
    "            - 파일 이름\n",
    "            - sep: separator. ','가 default\n",
    "            - names: 필드명. 주어지지 않으면 가장 첫 번째 라인이 저절로 필드명이 됨."
   ]
  },
  {
   "cell_type": "code",
   "execution_count": 2,
   "metadata": {
    "collapsed": false
   },
   "outputs": [
    {
     "data": {
      "text/html": [
       "<div>\n",
       "<style>\n",
       "    .dataframe thead tr:only-child th {\n",
       "        text-align: right;\n",
       "    }\n",
       "\n",
       "    .dataframe thead th {\n",
       "        text-align: left;\n",
       "    }\n",
       "\n",
       "    .dataframe tbody tr th {\n",
       "        vertical-align: top;\n",
       "    }\n",
       "</style>\n",
       "<table border=\"1\" class=\"dataframe\">\n",
       "  <thead>\n",
       "    <tr style=\"text-align: right;\">\n",
       "      <th></th>\n",
       "      <th>이름</th>\n",
       "      <th>나이</th>\n",
       "      <th>주소</th>\n",
       "    </tr>\n",
       "  </thead>\n",
       "  <tbody>\n",
       "    <tr>\n",
       "      <th>0</th>\n",
       "      <td>Berry</td>\n",
       "      <td>0.5</td>\n",
       "      <td>집</td>\n",
       "    </tr>\n",
       "    <tr>\n",
       "      <th>1</th>\n",
       "      <td>JH</td>\n",
       "      <td>27.0</td>\n",
       "      <td>서울</td>\n",
       "    </tr>\n",
       "    <tr>\n",
       "      <th>2</th>\n",
       "      <td>HK</td>\n",
       "      <td>27.0</td>\n",
       "      <td>서울</td>\n",
       "    </tr>\n",
       "    <tr>\n",
       "      <th>3</th>\n",
       "      <td>MK</td>\n",
       "      <td>27.0</td>\n",
       "      <td>경기</td>\n",
       "    </tr>\n",
       "    <tr>\n",
       "      <th>4</th>\n",
       "      <td>DG</td>\n",
       "      <td>29.0</td>\n",
       "      <td>서울</td>\n",
       "    </tr>\n",
       "  </tbody>\n",
       "</table>\n",
       "</div>"
      ],
      "text/plain": [
       "      이름    나이  주소\n",
       "0  Berry   0.5   집\n",
       "1     JH  27.0  서울\n",
       "2     HK  27.0  서울\n",
       "3     MK  27.0  경기\n",
       "4     DG  29.0  서울"
      ]
     },
     "execution_count": 2,
     "metadata": {},
     "output_type": "execute_result"
    }
   ],
   "source": [
    "import pandas as pd\n",
    "\n",
    "df = pd.read_csv('data.csv', sep=',')\n",
    "df"
   ]
  },
  {
   "cell_type": "code",
   "execution_count": 3,
   "metadata": {
    "collapsed": false
   },
   "outputs": [
    {
     "name": "stdout",
     "output_type": "stream",
     "text": [
      "Berry's age is 0.5 and address is 집.\n",
      "JH's age is 27.0 and address is 서울.\n",
      "HK's age is 27.0 and address is 서울.\n",
      "MK's age is 27.0 and address is 경기.\n",
      "DG's age is 29.0 and address is 서울.\n"
     ]
    }
   ],
   "source": [
    "for name, age, addr in zip(df['이름'], df['나이'], df['주소']):\n",
    "    print(\"%s's age is %.1lf and address is %s.\" % (name, age, addr))"
   ]
  },
  {
   "cell_type": "markdown",
   "metadata": {},
   "source": [
    "### for 문 추가\n",
    "- enumerate\n",
    "    - sequence와 sequence의 차례를 동시에 알고싶을 때 사용\n",
    "    - 아래 두 개를\n",
    "        ```python\n",
    "            for e in lst:\n",
    "        ```\n",
    "        ```python\n",
    "            for idx in range(len(lst)):\n",
    "        ```                \n",
    "\n",
    "    - 이렇게 합친 것과 같음\n",
    "        ```python\n",
    "            for idx, e in enumerate(lst):\n",
    "        ```"
   ]
  },
  {
   "cell_type": "code",
   "execution_count": 13,
   "metadata": {
    "collapsed": false
   },
   "outputs": [
    {
     "name": "stdout",
     "output_type": "stream",
     "text": [
      "0-th word: 'Remember'\n",
      "1-th word: 'me,'\n",
      "2-th word: 'though'\n",
      "3-th word: 'I'\n",
      "4-th word: 'have'\n",
      "5-th word: 'to'\n",
      "6-th word: 'say'\n",
      "7-th word: 'goodbye.'\n"
     ]
    }
   ],
   "source": [
    "sentence = \"Remember me, though I have to say goodbye.\"\n",
    "words = sentence.split()\n",
    "for th, word in enumerate(words):\n",
    "    print(\"%d-th word: '%s'\" % (th, word))"
   ]
  },
  {
   "cell_type": "markdown",
   "metadata": {},
   "source": [
    "- zip\n",
    "    - sequence를 묶어서 한꺼번에 이터레이션 돌고 싶을 때\n",
    "    - sequence 들의 길이가 같아야 함\n",
    "    - 사용 규칙\n",
    "        ```python\n",
    "        for i1, i2, ... in zip(s1, s2, ...):\n",
    "            ...\n",
    "        ```"
   ]
  },
  {
   "cell_type": "code",
   "execution_count": 15,
   "metadata": {
    "collapsed": false
   },
   "outputs": [
    {
     "name": "stdout",
     "output_type": "stream",
     "text": [
      "이름=철수, 나이=1, 거주지=aaa\n",
      "이름=영희, 나이=2, 거주지=bbb\n",
      "이름=영수, 나이=3, 거주지=ccc\n"
     ]
    }
   ],
   "source": [
    "name = ['철수', '영희', '영수']\n",
    "age = [1, 2, 3]\n",
    "place = ['aaa', 'bbb', 'ccc']\n",
    "\n",
    "for n, a, p in zip(name, age, place):\n",
    "    print('이름=%s, 나이=%d, 거주지=%s' % (n, a, p))"
   ]
  },
  {
   "cell_type": "code",
   "execution_count": null,
   "metadata": {
    "collapsed": true
   },
   "outputs": [],
   "source": []
  }
 ],
 "metadata": {
  "anaconda-cloud": {},
  "kernelspec": {
   "display_name": "Python [conda root]",
   "language": "python",
   "name": "conda-root-py"
  },
  "language_info": {
   "codemirror_mode": {
    "name": "ipython",
    "version": 3
   },
   "file_extension": ".py",
   "mimetype": "text/x-python",
   "name": "python",
   "nbconvert_exporter": "python",
   "pygments_lexer": "ipython3",
   "version": "3.5.2"
  }
 },
 "nbformat": 4,
 "nbformat_minor": 2
}
